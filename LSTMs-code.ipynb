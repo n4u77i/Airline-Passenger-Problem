{
 "cells": [
  {
   "cell_type": "code",
   "execution_count": 29,
   "metadata": {},
   "outputs": [],
   "source": [
    "# LSTM for international airline passengers problem with regression framing\n",
    "import math\n",
    "import numpy\n",
    "from pandas import read_csv\n",
    "from keras.layers import LSTM\n",
    "from keras.layers import Dense\n",
    "import matplotlib.pyplot as plt\n",
    "from keras.models import Sequential\n",
    "from sklearn.preprocessing import MinMaxScaler\n",
    "from sklearn.metrics import mean_squared_error"
   ]
  },
  {
   "cell_type": "code",
   "execution_count": 30,
   "metadata": {},
   "outputs": [],
   "source": [
    "# fix random seed for reproducibility\n",
    "numpy.random.seed(7)\n",
    "\n",
    "# load the dataset\n",
    "dataframe = read_csv('airline-passengers.csv', usecols=[1], engine='python')\n",
    "dataset = dataframe.values\n",
    "dataset = dataset.astype('float32')"
   ]
  },
  {
   "cell_type": "code",
   "execution_count": 31,
   "metadata": {},
   "outputs": [],
   "source": [
    "# normalize the dataset\n",
    "scaler = MinMaxScaler(feature_range=(0, 1))\n",
    "dataset = scaler.fit_transform(dataset)"
   ]
  },
  {
   "cell_type": "code",
   "execution_count": 32,
   "metadata": {},
   "outputs": [],
   "source": [
    "# split into train and test sets\n",
    "train_size = int(len(dataset) * 0.67)\n",
    "test_size = len(dataset) - train_size\n",
    "train, test = dataset[0:train_size,:], dataset[train_size:len(dataset),:]"
   ]
  },
  {
   "cell_type": "code",
   "execution_count": 33,
   "metadata": {},
   "outputs": [],
   "source": [
    "# convert an array of values into a dataset matrix\n",
    "def create_dataset(dataset, look_back=1):\n",
    "\tdataX, dataY = [], []\n",
    "\tfor i in range(len(dataset)-look_back-1):\n",
    "\t\ta = dataset[i:(i+look_back), 0]\n",
    "\t\tdataX.append(a)\n",
    "\t\tdataY.append(dataset[i + look_back, 0])\n",
    "\treturn numpy.array(dataX), numpy.array(dataY)"
   ]
  },
  {
   "cell_type": "code",
   "execution_count": 34,
   "metadata": {},
   "outputs": [],
   "source": [
    "# reshape into X=t and Y=t+1\n",
    "look_back = 1\n",
    "trainX, trainY = create_dataset(train, look_back)\n",
    "testX, testY = create_dataset(test, look_back)"
   ]
  },
  {
   "cell_type": "code",
   "execution_count": 35,
   "metadata": {},
   "outputs": [],
   "source": [
    "# reshape input to be [samples, time steps, features]\n",
    "trainX = numpy.reshape(trainX, (trainX.shape[0], 1, trainX.shape[1]))\n",
    "testX = numpy.reshape(testX, (testX.shape[0], 1, testX.shape[1]))"
   ]
  },
  {
   "cell_type": "code",
   "execution_count": 36,
   "metadata": {},
   "outputs": [
    {
     "name": "stdout",
     "output_type": "stream",
     "text": [
      "Epoch 1/50\n",
      " - 1s - loss: 0.0511\n",
      "Epoch 2/50\n",
      " - 0s - loss: 0.0399\n",
      "Epoch 3/50\n",
      " - 0s - loss: 0.0308\n",
      "Epoch 4/50\n",
      " - 0s - loss: 0.0240\n",
      "Epoch 5/50\n",
      " - 0s - loss: 0.0193\n",
      "Epoch 6/50\n",
      " - 0s - loss: 0.0158\n",
      "Epoch 7/50\n",
      " - 0s - loss: 0.0141\n",
      "Epoch 8/50\n",
      " - 0s - loss: 0.0131\n",
      "Epoch 9/50\n",
      " - 0s - loss: 0.0122\n",
      "Epoch 10/50\n",
      " - 0s - loss: 0.0118\n",
      "Epoch 11/50\n",
      " - 0s - loss: 0.0115\n",
      "Epoch 12/50\n",
      " - 0s - loss: 0.0112\n",
      "Epoch 13/50\n",
      " - 0s - loss: 0.0109\n",
      "Epoch 14/50\n",
      " - 0s - loss: 0.0106\n",
      "Epoch 15/50\n",
      " - 0s - loss: 0.0103\n",
      "Epoch 16/50\n",
      " - 0s - loss: 0.0100\n",
      "Epoch 17/50\n",
      " - 0s - loss: 0.0097\n",
      "Epoch 18/50\n",
      " - 0s - loss: 0.0094\n",
      "Epoch 19/50\n",
      " - 0s - loss: 0.0091\n",
      "Epoch 20/50\n",
      " - 0s - loss: 0.0088\n",
      "Epoch 21/50\n",
      " - 0s - loss: 0.0084\n",
      "Epoch 22/50\n",
      " - 0s - loss: 0.0081\n",
      "Epoch 23/50\n",
      " - 0s - loss: 0.0078\n",
      "Epoch 24/50\n",
      " - 0s - loss: 0.0075\n",
      "Epoch 25/50\n",
      " - 0s - loss: 0.0073\n",
      "Epoch 26/50\n",
      " - 0s - loss: 0.0069\n",
      "Epoch 27/50\n",
      " - 0s - loss: 0.0066\n",
      "Epoch 28/50\n",
      " - 0s - loss: 0.0063\n",
      "Epoch 29/50\n",
      " - 0s - loss: 0.0061\n",
      "Epoch 30/50\n",
      " - 0s - loss: 0.0058\n",
      "Epoch 31/50\n",
      " - 0s - loss: 0.0055\n",
      "Epoch 32/50\n",
      " - 0s - loss: 0.0052\n",
      "Epoch 33/50\n",
      " - 0s - loss: 0.0050\n",
      "Epoch 34/50\n",
      " - 0s - loss: 0.0047\n",
      "Epoch 35/50\n",
      " - 0s - loss: 0.0045\n",
      "Epoch 36/50\n",
      " - 0s - loss: 0.0043\n",
      "Epoch 37/50\n",
      " - 0s - loss: 0.0040\n",
      "Epoch 38/50\n",
      " - 0s - loss: 0.0039\n",
      "Epoch 39/50\n",
      " - 0s - loss: 0.0037\n",
      "Epoch 40/50\n",
      " - 0s - loss: 0.0035\n",
      "Epoch 41/50\n",
      " - 0s - loss: 0.0033\n",
      "Epoch 42/50\n",
      " - 0s - loss: 0.0032\n",
      "Epoch 43/50\n",
      " - 0s - loss: 0.0031\n",
      "Epoch 44/50\n",
      " - 0s - loss: 0.0029\n",
      "Epoch 45/50\n",
      " - 0s - loss: 0.0028\n",
      "Epoch 46/50\n",
      " - 0s - loss: 0.0027\n",
      "Epoch 47/50\n",
      " - 0s - loss: 0.0026\n",
      "Epoch 48/50\n",
      " - 0s - loss: 0.0026\n",
      "Epoch 49/50\n",
      " - 0s - loss: 0.0025\n",
      "Epoch 50/50\n",
      " - 0s - loss: 0.0024\n"
     ]
    },
    {
     "data": {
      "text/plain": [
       "<keras.callbacks.callbacks.History at 0x2048ba4c9c8>"
      ]
     },
     "execution_count": 36,
     "metadata": {},
     "output_type": "execute_result"
    }
   ],
   "source": [
    "# create and fit the LSTM network\n",
    "model = Sequential()\n",
    "model.add(LSTM(4, input_shape=(1, look_back)))\n",
    "model.add(Dense(1))\n",
    "\n",
    "model.compile(loss='mean_squared_error', optimizer='adam')\n",
    "model.fit(trainX, trainY, epochs=50, batch_size=5, verbose=2)"
   ]
  },
  {
   "cell_type": "code",
   "execution_count": 37,
   "metadata": {},
   "outputs": [],
   "source": [
    "# make predictions\n",
    "trainPredict = model.predict(trainX)\n",
    "testPredict = model.predict(testX)\n",
    "\n",
    "# invert predictions\n",
    "trainPredict = scaler.inverse_transform(trainPredict)\n",
    "trainY = scaler.inverse_transform([trainY])\n",
    "\n",
    "testPredict = scaler.inverse_transform(testPredict)\n",
    "testY = scaler.inverse_transform([testY])"
   ]
  },
  {
   "cell_type": "code",
   "execution_count": 38,
   "metadata": {},
   "outputs": [
    {
     "name": "stdout",
     "output_type": "stream",
     "text": [
      "Train Score: 25.17 RMSE\n",
      "Test Score: 54.28 RMSE\n"
     ]
    }
   ],
   "source": [
    "# calculate root mean squared error\n",
    "trainScore = math.sqrt(mean_squared_error(trainY[0], trainPredict[:,0]))\n",
    "print('Train Score: %.2f RMSE' % (trainScore))\n",
    "\n",
    "testScore = math.sqrt(mean_squared_error(testY[0], testPredict[:,0]))\n",
    "print('Test Score: %.2f RMSE' % (testScore))"
   ]
  },
  {
   "cell_type": "code",
   "execution_count": 39,
   "metadata": {},
   "outputs": [],
   "source": [
    "# shift train predictions for plotting\n",
    "trainPredictPlot = numpy.empty_like(dataset)\n",
    "trainPredictPlot[:, :] = numpy.nan\n",
    "trainPredictPlot[look_back:len(trainPredict)+look_back, :] = trainPredict"
   ]
  },
  {
   "cell_type": "code",
   "execution_count": 40,
   "metadata": {},
   "outputs": [],
   "source": [
    "# shift test predictions for plotting\n",
    "testPredictPlot = numpy.empty_like(dataset)\n",
    "testPredictPlot[:, :] = numpy.nan\n",
    "testPredictPlot[len(trainPredict)+(look_back*2)+1:len(dataset)-1, :] = testPredict"
   ]
  },
  {
   "cell_type": "code",
   "execution_count": 41,
   "metadata": {},
   "outputs": [
    {
     "data": {
      "image/png": "[encoded data removed]",
      "text/plain": [
       "<Figure size 432x288 with 1 Axes>"
      ]
     },
     "metadata": {
      "needs_background": "light"
     },
     "output_type": "display_data"
    }
   ],
   "source": [
    "# plot baseline and predictions\n",
    "plt.plot(scaler.inverse_transform(dataset))\n",
    "plt.plot(trainPredictPlot)\n",
    "plt.plot(testPredictPlot)\n",
    "plt.show()"
   ]
  }
 ],
 "metadata": {
  "kernelspec": {
   "display_name": "Python 3",
   "language": "python",
   "name": "python3"
  },
  "language_info": {
   "codemirror_mode": {
    "name": "ipython",
    "version": 3
   },
   "file_extension": ".py",
   "mimetype": "text/x-python",
   "name": "python",
   "nbconvert_exporter": "python",
   "pygments_lexer": "ipython3",
   "version": "3.7.9"
  }
 },
 "nbformat": 4,
 "nbformat_minor": 4
}
